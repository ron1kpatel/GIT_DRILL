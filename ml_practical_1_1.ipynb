{
  "nbformat": 4,
  "nbformat_minor": 0,
  "metadata": {
    "colab": {
      "provenance": [],
      "authorship_tag": "ABX9TyMmrgT8qlrzwZ0p+oS0s65W",
      "include_colab_link": true
    },
    "kernelspec": {
      "name": "python3",
      "display_name": "Python 3"
    },
    "language_info": {
      "name": "python"
    }
  },
  "cells": [
    {
      "cell_type": "markdown",
      "metadata": {
        "id": "view-in-github",
        "colab_type": "text"
      },
      "source": [
        "<a href=\"https://colab.research.google.com/github/ron1kpatel/GIT_DRILL/blob/main/ml_practical_1_1.ipynb\" target=\"_parent\"><img src=\"https://colab.research.google.com/assets/colab-badge.svg\" alt=\"Open In Colab\"/></a>"
      ]
    },
    {
      "cell_type": "code",
      "source": [
        "import statistics"
      ],
      "metadata": {
        "id": "fFmU4dX9_PG6"
      },
      "execution_count": null,
      "outputs": []
    },
    {
      "cell_type": "code",
      "execution_count": null,
      "metadata": {
        "id": "g39MJRoq-9fA"
      },
      "outputs": [],
      "source": [
        "# Sample data representing exam scores\n",
        "exam_scores = [85, 92, 78, 90, 88, 95, 76, 82, 87, 91]"
      ]
    },
    {
      "cell_type": "code",
      "source": [],
      "metadata": {
        "id": "TlC-ISj8qHJb"
      },
      "execution_count": null,
      "outputs": []
    },
    {
      "cell_type": "markdown",
      "source": [
        "a"
      ],
      "metadata": {
        "id": "z8eR-uyV_5Lj"
      }
    },
    {
      "cell_type": "code",
      "source": [
        "# Calculate measures of central tendency\n",
        "mean_score = statistics.mean(exam_scores)\n",
        "median_score = statistics.median(exam_scores)\n",
        "mode_score = statistics.mode(exam_scores)\n",
        "\n",
        "# Display results\n",
        "print(\"Exam Scores:\", exam_scores)\n",
        "print(\"Mean Score:\", mean_score)\n",
        "print(\"Median Score:\", median_score)\n",
        "print(\"Mode Score:\", mode_score)\n"
      ],
      "metadata": {
        "colab": {
          "base_uri": "https://localhost:8080/"
        },
        "id": "qAA8GkKHAGBo",
        "outputId": "72af80f4-b7ac-433c-be38-b49265dd62a6"
      },
      "execution_count": null,
      "outputs": [
        {
          "output_type": "stream",
          "name": "stdout",
          "text": [
            "Exam Scores: [85, 92, 78, 90, 88, 95, 76, 82, 87, 91]\n",
            "Mean Score: 86.4\n",
            "Median Score: 87.5\n",
            "Mode Score: 85\n"
          ]
        }
      ]
    },
    {
      "cell_type": "markdown",
      "source": [],
      "metadata": {
        "id": "yYZEnpQt_5Ix"
      }
    },
    {
      "cell_type": "code",
      "source": [
        "# Calculate measures of dispersion\n",
        "variance_score = statistics.variance(exam_scores)\n",
        "stdev_score = statistics.stdev(exam_scores)\n",
        "pvariance_score = statistics.pvariance(exam_scores)\n",
        "pstdev_score = statistics.pstdev(exam_scores)\n",
        "\n",
        "# Display results\n",
        "print(\"Variance Score:\", variance_score)\n",
        "print(\"Standard Deviation Score:\", stdev_score)\n",
        "print(\"Population Variance Score:\", pvariance_score)\n",
        "print(\"Population Standard Deviation Score:\", pstdev_score)\n"
      ],
      "metadata": {
        "colab": {
          "base_uri": "https://localhost:8080/"
        },
        "id": "3Vb3Pi8f_VwL",
        "outputId": "8224b00c-4f5d-4208-feb9-bab7bb83a9d3"
      },
      "execution_count": null,
      "outputs": [
        {
          "output_type": "stream",
          "name": "stdout",
          "text": [
            "Variance Score: 38.044444444444444\n",
            "Standard Deviation Score: 6.168017869984201\n",
            "Population Variance Score: 34.24\n",
            "Population Standard Deviation Score: 5.851495535331118\n"
          ]
        }
      ]
    },
    {
      "cell_type": "code",
      "source": [],
      "metadata": {
        "id": "IcA0SkX8_h2R"
      },
      "execution_count": null,
      "outputs": []
    }
  ]
}